{
  "nbformat": 4,
  "nbformat_minor": 0,
  "metadata": {
    "colab": {
      "provenance": [],
      "authorship_tag": "ABX9TyOl6gSzZz6F8BvIudeFwWRf",
      "include_colab_link": true
    },
    "kernelspec": {
      "name": "python3",
      "display_name": "Python 3"
    },
    "language_info": {
      "name": "python"
    }
  },
  "cells": [
    {
      "cell_type": "markdown",
      "metadata": {
        "id": "view-in-github",
        "colab_type": "text"
      },
      "source": [
        "<a href=\"https://colab.research.google.com/github/lamtruong2002/BaitapAItuan10/blob/main/loadnhieutep.ipynb\" target=\"_parent\"><img src=\"https://colab.research.google.com/assets/colab-badge.svg\" alt=\"Open In Colab\"/></a>"
      ]
    },
    {
      "cell_type": "code",
      "execution_count": null,
      "metadata": {
        "id": "QHYPt7hPG0aM"
      },
      "outputs": [],
      "source": [
        "from matplotlib.image import imread\n",
        "folder=''\n",
        "for i in range(30):\n",
        "  plt.subplot(6,5,i+1)\n",
        "  filename=folder+'A'+str(i)+'.jpg'\n",
        "  img=imread(filename)"
      ]
    }
  ]
}
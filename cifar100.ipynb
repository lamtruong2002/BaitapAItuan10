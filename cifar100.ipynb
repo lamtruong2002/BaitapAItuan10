{
  "cells": [
    {
      "cell_type": "markdown",
      "metadata": {
        "id": "view-in-github",
        "colab_type": "text"
      },
      "source": [
        "<a href=\"https://colab.research.google.com/github/lamtruong2002/BaitapAItuan10/blob/main/cifar100.ipynb\" target=\"_parent\"><img src=\"https://colab.research.google.com/assets/colab-badge.svg\" alt=\"Open In Colab\"/></a>"
      ]
    },
    {
      "cell_type": "code",
      "execution_count": null,
      "metadata": {
        "id": "3E4kuqGjywCS",
        "colab": {
          "base_uri": "https://localhost:8080/"
        },
        "outputId": "45382d1e-b80a-406f-c0ef-a40b85f21cfa"
      },
      "outputs": [
        {
          "output_type": "stream",
          "name": "stdout",
          "text": [
            "(50000, 32, 32, 3)\n",
            "(50000, 1)\n",
            "(50000, 3072)\n",
            "(50000, 100)\n"
          ]
        }
      ],
      "source": [
        "\n",
        "from typing_extensions import assert_type\n",
        "from keras.datasets import cifar100\n",
        "(x_train,y_train),(x_test,y_test)=cifar100.load_data()\n",
        "print(x_train.shape)\n",
        "print(y_train.shape)\n",
        "x_train=x_train.reshape(50000,32*32*3)\n",
        "x_train=x_train.astype('float32')/255\n",
        "x_test=x_test.reshape(10000,32*32*3)\n",
        "x_test=x_test.astype('float32')/255\n",
        "\n",
        "from keras.utils import to_categorical\n",
        "y_train=to_categorical(y_train,100)\n",
        "y_test=to_categorical(y_test,100)\n",
        "\n",
        "print(x_train.shape)\n",
        "print(y_train.shape)"
      ]
    },
    {
      "cell_type": "code",
      "execution_count": null,
      "metadata": {
        "colab": {
          "base_uri": "https://localhost:8080/"
        },
        "id": "Yn9rSMIb2DBt",
        "outputId": "2ef4fbb9-5504-4e94-9bd8-2c1968ef7f09"
      },
      "outputs": [
        {
          "output_type": "stream",
          "name": "stdout",
          "text": [
            "Model: \"sequential_2\"\n",
            "_________________________________________________________________\n",
            " Layer (type)                Output Shape              Param #   \n",
            "=================================================================\n",
            " dense_6 (Dense)             (None, 2000)              6146000   \n",
            "                                                                 \n",
            " dense_7 (Dense)             (None, 1000)              2001000   \n",
            "                                                                 \n",
            " dense_8 (Dense)             (None, 100)               100100    \n",
            "                                                                 \n",
            "=================================================================\n",
            "Total params: 8,247,100\n",
            "Trainable params: 8,247,100\n",
            "Non-trainable params: 0\n",
            "_________________________________________________________________\n"
          ]
        }
      ],
      "source": [
        "from keras.models import Sequential\n",
        "from keras.layers import Dense\n",
        "model = Sequential()\n",
        "model.add(Dense(2000, input_shape = (32*32*3,), activation = 'relu'))\n",
        "model.add(Dense(1000, activation = 'relu'))\n",
        "model.add(Dense(100, activation = 'softmax'))\n",
        "model.summary()"
      ]
    },
    {
      "cell_type": "code",
      "execution_count": null,
      "metadata": {
        "colab": {
          "base_uri": "https://localhost:8080/"
        },
        "id": "AGMnvzkK3PyL",
        "outputId": "b1d4e6ce-523e-48a3-ed50-4de8381b0385"
      },
      "outputs": [
        {
          "output_type": "stream",
          "name": "stdout",
          "text": [
            "Epoch 1/10\n",
            "391/391 [==============================] - 71s 181ms/step - loss: 4.2826 - accuracy: 0.0695\n",
            "Epoch 2/10\n",
            "391/391 [==============================] - 72s 184ms/step - loss: 3.7131 - accuracy: 0.1317\n",
            "Epoch 3/10\n",
            "391/391 [==============================] - 73s 186ms/step - loss: 3.5289 - accuracy: 0.1689\n",
            "Epoch 4/10\n",
            "391/391 [==============================] - 74s 190ms/step - loss: 3.4052 - accuracy: 0.1880\n",
            "Epoch 5/10\n",
            "391/391 [==============================] - 73s 186ms/step - loss: 3.2991 - accuracy: 0.2077\n",
            "Epoch 6/10\n",
            "391/391 [==============================] - 73s 188ms/step - loss: 3.2038 - accuracy: 0.2241\n",
            "Epoch 7/10\n",
            "391/391 [==============================] - 72s 185ms/step - loss: 3.1214 - accuracy: 0.2387\n",
            "Epoch 8/10\n",
            "391/391 [==============================] - 72s 184ms/step - loss: 3.0375 - accuracy: 0.2558\n",
            "Epoch 9/10\n",
            "391/391 [==============================] - 79s 202ms/step - loss: 2.9668 - accuracy: 0.2711\n",
            "Epoch 10/10\n",
            "391/391 [==============================] - 71s 181ms/step - loss: 2.8971 - accuracy: 0.2838\n",
            "313/313 [==============================] - 9s 27ms/step - loss: 3.4128 - accuracy: 0.2150\n",
            "0.2150000035762787\n",
            "3.412766695022583\n"
          ]
        }
      ],
      "source": [
        "model.compile(optimizer = 'rmsprop', loss = 'categorical_crossentropy', metrics= 'accuracy')\n",
        "model.fit(x_train, y_train, epochs = 10, batch_size= 128)\n",
        "loss, acc = model.evaluate(x_test, y_test)\n",
        "print(acc)\n",
        "print(loss)"
      ]
    },
    {
      "cell_type": "code",
      "execution_count": null,
      "metadata": {
        "id": "UvZdXuCi5eYJ"
      },
      "outputs": [],
      "source": [
        "model.save('model.h5')"
      ]
    }
  ],
  "metadata": {
    "colab": {
      "provenance": [],
      "mount_file_id": "1CRJlz-Z_fvD4ITiE78xiHAC2UomZd5hN",
      "authorship_tag": "ABX9TyPFN3D/ZxDtsr16945XvVVJ",
      "include_colab_link": true
    },
    "kernelspec": {
      "display_name": "Python 3",
      "name": "python3"
    },
    "language_info": {
      "name": "python"
    }
  },
  "nbformat": 4,
  "nbformat_minor": 0
}
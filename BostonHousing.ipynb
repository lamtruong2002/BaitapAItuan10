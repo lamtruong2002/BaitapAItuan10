{
  "nbformat": 4,
  "nbformat_minor": 0,
  "metadata": {
    "colab": {
      "provenance": [],
      "authorship_tag": "ABX9TyNvC7ylnMYH/XJQLhBE1aoA",
      "include_colab_link": true
    },
    "kernelspec": {
      "name": "python3",
      "display_name": "Python 3"
    },
    "language_info": {
      "name": "python"
    }
  },
  "cells": [
    {
      "cell_type": "markdown",
      "metadata": {
        "id": "view-in-github",
        "colab_type": "text"
      },
      "source": [
        "<a href=\"https://colab.research.google.com/github/lamtruong2002/BaitapAItuan10/blob/main/BostonHousing.ipynb\" target=\"_parent\"><img src=\"https://colab.research.google.com/assets/colab-badge.svg\" alt=\"Open In Colab\"/></a>"
      ]
    },
    {
      "cell_type": "code",
      "source": [
        "from google.colab import drive\n",
        "drive.mount('/content/drive')"
      ],
      "metadata": {
        "colab": {
          "base_uri": "https://localhost:8080/"
        },
        "id": "kE2GOiyhMxF7",
        "outputId": "7b379272-13cf-4859-ace8-d709cf0e0204"
      },
      "execution_count": 1,
      "outputs": [
        {
          "output_type": "stream",
          "name": "stdout",
          "text": [
            "Mounted at /content/drive\n"
          ]
        }
      ]
    },
    {
      "cell_type": "code",
      "execution_count": 2,
      "metadata": {
        "colab": {
          "base_uri": "https://localhost:8080/"
        },
        "id": "qzTdke4PMeYD",
        "outputId": "bbbfe3d4-41d6-4d12-88f7-d806ec75fa94"
      },
      "outputs": [
        {
          "output_type": "stream",
          "name": "stdout",
          "text": [
            "Downloading data from https://storage.googleapis.com/tensorflow/tf-keras-datasets/boston_housing.npz\n",
            "57026/57026 [==============================] - 0s 0us/step\n"
          ]
        }
      ],
      "source": [
        "from keras.datasets import boston_housing\n",
        "(x_train,y_train),(x_test, y_test) = boston_housing.load_data() "
      ]
    },
    {
      "cell_type": "code",
      "source": [
        "y_train.shape\n",
        "x_train.shape"
      ],
      "metadata": {
        "colab": {
          "base_uri": "https://localhost:8080/"
        },
        "id": "1C5F9_FDMgKY",
        "outputId": "9b08f11c-709b-4c86-dc4e-023055bee847"
      },
      "execution_count": 3,
      "outputs": [
        {
          "output_type": "execute_result",
          "data": {
            "text/plain": [
              "(404, 13)"
            ]
          },
          "metadata": {},
          "execution_count": 3
        }
      ]
    },
    {
      "cell_type": "code",
      "source": [
        "from keras import models\n",
        "from keras.models import Sequential\n",
        "from keras.layers import Dense\n",
        "from sklearn.preprocessing import StandardScaler\n",
        "import numpy as np\n",
        "\n",
        "sc = StandardScaler()\n",
        "X_train = sc.fit_transform(x_train)\n",
        "X_test  = sc.fit_transform(x_test)"
      ],
      "metadata": {
        "id": "f_oE_tnDNDOt"
      },
      "execution_count": 4,
      "outputs": []
    },
    {
      "cell_type": "code",
      "source": [
        "model = models.Sequential()\n",
        "model.add(Dense(32, activation='linear', input_shape=(13,)))\n",
        "model.add(Dense(64, activation='linear'))\n",
        "model.add(Dense(64, activation='linear'))\n",
        "\n",
        "model.add(Dense(1, activation = 'linear'))\n",
        "model.summary()"
      ],
      "metadata": {
        "colab": {
          "base_uri": "https://localhost:8080/"
        },
        "id": "tC2p2ioWNK8W",
        "outputId": "c23439fb-6244-4567-bfd9-66bd394e0179"
      },
      "execution_count": 5,
      "outputs": [
        {
          "output_type": "stream",
          "name": "stdout",
          "text": [
            "Model: \"sequential\"\n",
            "_________________________________________________________________\n",
            " Layer (type)                Output Shape              Param #   \n",
            "=================================================================\n",
            " dense (Dense)               (None, 32)                448       \n",
            "                                                                 \n",
            " dense_1 (Dense)             (None, 64)                2112      \n",
            "                                                                 \n",
            " dense_2 (Dense)             (None, 64)                4160      \n",
            "                                                                 \n",
            " dense_3 (Dense)             (None, 1)                 65        \n",
            "                                                                 \n",
            "=================================================================\n",
            "Total params: 6,785\n",
            "Trainable params: 6,785\n",
            "Non-trainable params: 0\n",
            "_________________________________________________________________\n"
          ]
        }
      ]
    },
    {
      "cell_type": "code",
      "source": [
        "# Bien dich (compile),Train\n",
        "# Dạng hồi quy\n",
        "model.compile(optimizer = 'adam', loss ='mean_absolute_error', metrics = ['accuracy'])\n",
        "model.fit(X_train, y_train, epochs = 100, batch_size = 128) \n",
        "\n",
        "test_loss, test_acc = model.evaluate(X_test, y_test)\n",
        "print('test_accuracy',test_acc)\n",
        "print('test_loss:',test_loss)"
      ],
      "metadata": {
        "colab": {
          "base_uri": "https://localhost:8080/"
        },
        "id": "9qGe3YjmNPLa",
        "outputId": "bd59ab39-2249-407c-8944-6e93cf536bc2"
      },
      "execution_count": 6,
      "outputs": [
        {
          "output_type": "stream",
          "name": "stdout",
          "text": [
            "Epoch 1/100\n",
            "4/4 [==============================] - 2s 8ms/step - loss: 22.4025 - accuracy: 0.0000e+00\n",
            "Epoch 2/100\n",
            "4/4 [==============================] - 0s 4ms/step - loss: 22.2730 - accuracy: 0.0000e+00\n",
            "Epoch 3/100\n",
            "4/4 [==============================] - 0s 4ms/step - loss: 22.1679 - accuracy: 0.0000e+00\n",
            "Epoch 4/100\n",
            "4/4 [==============================] - 0s 4ms/step - loss: 22.0565 - accuracy: 0.0000e+00\n",
            "Epoch 5/100\n",
            "4/4 [==============================] - 0s 4ms/step - loss: 21.9376 - accuracy: 0.0000e+00\n",
            "Epoch 6/100\n",
            "4/4 [==============================] - 0s 4ms/step - loss: 21.7872 - accuracy: 0.0000e+00\n",
            "Epoch 7/100\n",
            "4/4 [==============================] - 0s 4ms/step - loss: 21.6203 - accuracy: 0.0000e+00\n",
            "Epoch 8/100\n",
            "4/4 [==============================] - 0s 4ms/step - loss: 21.4418 - accuracy: 0.0000e+00\n",
            "Epoch 9/100\n",
            "4/4 [==============================] - 0s 4ms/step - loss: 21.2244 - accuracy: 0.0000e+00\n",
            "Epoch 10/100\n",
            "4/4 [==============================] - 0s 5ms/step - loss: 20.9407 - accuracy: 0.0000e+00\n",
            "Epoch 11/100\n",
            "4/4 [==============================] - 0s 4ms/step - loss: 20.6051 - accuracy: 0.0000e+00\n",
            "Epoch 12/100\n",
            "4/4 [==============================] - 0s 4ms/step - loss: 20.1877 - accuracy: 0.0000e+00\n",
            "Epoch 13/100\n",
            "4/4 [==============================] - 0s 4ms/step - loss: 19.6637 - accuracy: 0.0000e+00\n",
            "Epoch 14/100\n",
            "4/4 [==============================] - 0s 4ms/step - loss: 19.0159 - accuracy: 0.0000e+00\n",
            "Epoch 15/100\n",
            "4/4 [==============================] - 0s 4ms/step - loss: 18.1624 - accuracy: 0.0000e+00\n",
            "Epoch 16/100\n",
            "4/4 [==============================] - 0s 4ms/step - loss: 17.0767 - accuracy: 0.0000e+00\n",
            "Epoch 17/100\n",
            "4/4 [==============================] - 0s 4ms/step - loss: 15.6644 - accuracy: 0.0000e+00\n",
            "Epoch 18/100\n",
            "4/4 [==============================] - 0s 5ms/step - loss: 13.8204 - accuracy: 0.0000e+00\n",
            "Epoch 19/100\n",
            "4/4 [==============================] - 0s 5ms/step - loss: 11.7280 - accuracy: 0.0000e+00\n",
            "Epoch 20/100\n",
            "4/4 [==============================] - 0s 4ms/step - loss: 9.6429 - accuracy: 0.0000e+00\n",
            "Epoch 21/100\n",
            "4/4 [==============================] - 0s 4ms/step - loss: 7.9383 - accuracy: 0.0000e+00\n",
            "Epoch 22/100\n",
            "4/4 [==============================] - 0s 4ms/step - loss: 6.9031 - accuracy: 0.0000e+00\n",
            "Epoch 23/100\n",
            "4/4 [==============================] - 0s 4ms/step - loss: 5.7711 - accuracy: 0.0000e+00\n",
            "Epoch 24/100\n",
            "4/4 [==============================] - 0s 4ms/step - loss: 4.8943 - accuracy: 0.0000e+00\n",
            "Epoch 25/100\n",
            "4/4 [==============================] - 0s 3ms/step - loss: 4.2136 - accuracy: 0.0000e+00\n",
            "Epoch 26/100\n",
            "4/4 [==============================] - 0s 4ms/step - loss: 3.7491 - accuracy: 0.0000e+00\n",
            "Epoch 27/100\n",
            "4/4 [==============================] - 0s 4ms/step - loss: 3.6567 - accuracy: 0.0000e+00\n",
            "Epoch 28/100\n",
            "4/4 [==============================] - 0s 5ms/step - loss: 3.3349 - accuracy: 0.0000e+00\n",
            "Epoch 29/100\n",
            "4/4 [==============================] - 0s 4ms/step - loss: 3.2916 - accuracy: 0.0000e+00\n",
            "Epoch 30/100\n",
            "4/4 [==============================] - 0s 4ms/step - loss: 3.2265 - accuracy: 0.0000e+00\n",
            "Epoch 31/100\n",
            "4/4 [==============================] - 0s 4ms/step - loss: 3.1765 - accuracy: 0.0000e+00\n",
            "Epoch 32/100\n",
            "4/4 [==============================] - 0s 4ms/step - loss: 3.1896 - accuracy: 0.0000e+00\n",
            "Epoch 33/100\n",
            "4/4 [==============================] - 0s 4ms/step - loss: 3.2278 - accuracy: 0.0000e+00\n",
            "Epoch 34/100\n",
            "4/4 [==============================] - 0s 4ms/step - loss: 3.1645 - accuracy: 0.0000e+00\n",
            "Epoch 35/100\n",
            "4/4 [==============================] - 0s 5ms/step - loss: 3.1718 - accuracy: 0.0000e+00\n",
            "Epoch 36/100\n",
            "4/4 [==============================] - 0s 4ms/step - loss: 3.1657 - accuracy: 0.0000e+00\n",
            "Epoch 37/100\n",
            "4/4 [==============================] - 0s 5ms/step - loss: 3.1373 - accuracy: 0.0000e+00\n",
            "Epoch 38/100\n",
            "4/4 [==============================] - 0s 5ms/step - loss: 3.1923 - accuracy: 0.0000e+00\n",
            "Epoch 39/100\n",
            "4/4 [==============================] - 0s 4ms/step - loss: 3.1999 - accuracy: 0.0000e+00\n",
            "Epoch 40/100\n",
            "4/4 [==============================] - 0s 4ms/step - loss: 3.1549 - accuracy: 0.0000e+00\n",
            "Epoch 41/100\n",
            "4/4 [==============================] - 0s 4ms/step - loss: 3.1280 - accuracy: 0.0000e+00\n",
            "Epoch 42/100\n",
            "4/4 [==============================] - 0s 4ms/step - loss: 3.1613 - accuracy: 0.0000e+00\n",
            "Epoch 43/100\n",
            "4/4 [==============================] - 0s 4ms/step - loss: 3.1645 - accuracy: 0.0000e+00\n",
            "Epoch 44/100\n",
            "4/4 [==============================] - 0s 5ms/step - loss: 3.1954 - accuracy: 0.0000e+00\n",
            "Epoch 45/100\n",
            "4/4 [==============================] - 0s 4ms/step - loss: 3.2327 - accuracy: 0.0000e+00\n",
            "Epoch 46/100\n",
            "4/4 [==============================] - 0s 4ms/step - loss: 3.2042 - accuracy: 0.0000e+00\n",
            "Epoch 47/100\n",
            "4/4 [==============================] - 0s 4ms/step - loss: 3.2512 - accuracy: 0.0000e+00\n",
            "Epoch 48/100\n",
            "4/4 [==============================] - 0s 4ms/step - loss: 3.2210 - accuracy: 0.0000e+00\n",
            "Epoch 49/100\n",
            "4/4 [==============================] - 0s 3ms/step - loss: 3.1550 - accuracy: 0.0000e+00\n",
            "Epoch 50/100\n",
            "4/4 [==============================] - 0s 4ms/step - loss: 3.1753 - accuracy: 0.0000e+00\n",
            "Epoch 51/100\n",
            "4/4 [==============================] - 0s 4ms/step - loss: 3.2413 - accuracy: 0.0000e+00\n",
            "Epoch 52/100\n",
            "4/4 [==============================] - 0s 4ms/step - loss: 3.1273 - accuracy: 0.0000e+00\n",
            "Epoch 53/100\n",
            "4/4 [==============================] - 0s 4ms/step - loss: 3.2959 - accuracy: 0.0000e+00\n",
            "Epoch 54/100\n",
            "4/4 [==============================] - 0s 4ms/step - loss: 3.2018 - accuracy: 0.0000e+00\n",
            "Epoch 55/100\n",
            "4/4 [==============================] - 0s 6ms/step - loss: 3.1648 - accuracy: 0.0000e+00\n",
            "Epoch 56/100\n",
            "4/4 [==============================] - 0s 4ms/step - loss: 3.2243 - accuracy: 0.0000e+00\n",
            "Epoch 57/100\n",
            "4/4 [==============================] - 0s 4ms/step - loss: 3.2242 - accuracy: 0.0000e+00\n",
            "Epoch 58/100\n",
            "4/4 [==============================] - 0s 4ms/step - loss: 3.2007 - accuracy: 0.0000e+00\n",
            "Epoch 59/100\n",
            "4/4 [==============================] - 0s 4ms/step - loss: 3.2169 - accuracy: 0.0000e+00\n",
            "Epoch 60/100\n",
            "4/4 [==============================] - 0s 4ms/step - loss: 3.1550 - accuracy: 0.0000e+00\n",
            "Epoch 61/100\n",
            "4/4 [==============================] - 0s 4ms/step - loss: 3.2098 - accuracy: 0.0000e+00\n",
            "Epoch 62/100\n",
            "4/4 [==============================] - 0s 4ms/step - loss: 3.1394 - accuracy: 0.0000e+00\n",
            "Epoch 63/100\n",
            "4/4 [==============================] - 0s 4ms/step - loss: 3.1663 - accuracy: 0.0000e+00\n",
            "Epoch 64/100\n",
            "4/4 [==============================] - 0s 4ms/step - loss: 3.1363 - accuracy: 0.0000e+00\n",
            "Epoch 65/100\n",
            "4/4 [==============================] - 0s 4ms/step - loss: 3.1795 - accuracy: 0.0000e+00\n",
            "Epoch 66/100\n",
            "4/4 [==============================] - 0s 4ms/step - loss: 3.1541 - accuracy: 0.0000e+00\n",
            "Epoch 67/100\n",
            "4/4 [==============================] - 0s 4ms/step - loss: 3.1398 - accuracy: 0.0000e+00\n",
            "Epoch 68/100\n",
            "4/4 [==============================] - 0s 4ms/step - loss: 3.1800 - accuracy: 0.0000e+00\n",
            "Epoch 69/100\n",
            "4/4 [==============================] - 0s 4ms/step - loss: 3.2190 - accuracy: 0.0000e+00\n",
            "Epoch 70/100\n",
            "4/4 [==============================] - 0s 4ms/step - loss: 3.1300 - accuracy: 0.0000e+00\n",
            "Epoch 71/100\n",
            "4/4 [==============================] - 0s 4ms/step - loss: 3.1334 - accuracy: 0.0000e+00\n",
            "Epoch 72/100\n",
            "4/4 [==============================] - 0s 4ms/step - loss: 3.1668 - accuracy: 0.0000e+00\n",
            "Epoch 73/100\n",
            "4/4 [==============================] - 0s 4ms/step - loss: 3.1406 - accuracy: 0.0000e+00\n",
            "Epoch 74/100\n",
            "4/4 [==============================] - 0s 7ms/step - loss: 3.1241 - accuracy: 0.0000e+00\n",
            "Epoch 75/100\n",
            "4/4 [==============================] - 0s 4ms/step - loss: 3.1189 - accuracy: 0.0000e+00\n",
            "Epoch 76/100\n",
            "4/4 [==============================] - 0s 4ms/step - loss: 3.1467 - accuracy: 0.0000e+00\n",
            "Epoch 77/100\n",
            "4/4 [==============================] - 0s 4ms/step - loss: 3.1627 - accuracy: 0.0000e+00\n",
            "Epoch 78/100\n",
            "4/4 [==============================] - 0s 4ms/step - loss: 3.1616 - accuracy: 0.0000e+00\n",
            "Epoch 79/100\n",
            "4/4 [==============================] - 0s 4ms/step - loss: 3.1435 - accuracy: 0.0000e+00\n",
            "Epoch 80/100\n",
            "4/4 [==============================] - 0s 4ms/step - loss: 3.1650 - accuracy: 0.0000e+00\n",
            "Epoch 81/100\n",
            "4/4 [==============================] - 0s 4ms/step - loss: 3.1798 - accuracy: 0.0000e+00\n",
            "Epoch 82/100\n",
            "4/4 [==============================] - 0s 5ms/step - loss: 3.1665 - accuracy: 0.0000e+00\n",
            "Epoch 83/100\n",
            "4/4 [==============================] - 0s 5ms/step - loss: 3.2320 - accuracy: 0.0000e+00\n",
            "Epoch 84/100\n",
            "4/4 [==============================] - 0s 4ms/step - loss: 3.2379 - accuracy: 0.0000e+00\n",
            "Epoch 85/100\n",
            "4/4 [==============================] - 0s 4ms/step - loss: 3.1609 - accuracy: 0.0000e+00\n",
            "Epoch 86/100\n",
            "4/4 [==============================] - 0s 4ms/step - loss: 3.1198 - accuracy: 0.0000e+00\n",
            "Epoch 87/100\n",
            "4/4 [==============================] - 0s 4ms/step - loss: 3.1488 - accuracy: 0.0000e+00\n",
            "Epoch 88/100\n",
            "4/4 [==============================] - 0s 4ms/step - loss: 3.2028 - accuracy: 0.0000e+00\n",
            "Epoch 89/100\n",
            "4/4 [==============================] - 0s 4ms/step - loss: 3.1383 - accuracy: 0.0000e+00\n",
            "Epoch 90/100\n",
            "4/4 [==============================] - 0s 5ms/step - loss: 3.1457 - accuracy: 0.0000e+00\n",
            "Epoch 91/100\n",
            "4/4 [==============================] - 0s 4ms/step - loss: 3.1372 - accuracy: 0.0000e+00\n",
            "Epoch 92/100\n",
            "4/4 [==============================] - 0s 4ms/step - loss: 3.1141 - accuracy: 0.0000e+00\n",
            "Epoch 93/100\n",
            "4/4 [==============================] - 0s 4ms/step - loss: 3.1298 - accuracy: 0.0000e+00\n",
            "Epoch 94/100\n",
            "4/4 [==============================] - 0s 4ms/step - loss: 3.1182 - accuracy: 0.0000e+00\n",
            "Epoch 95/100\n",
            "4/4 [==============================] - 0s 4ms/step - loss: 3.1438 - accuracy: 0.0000e+00\n",
            "Epoch 96/100\n",
            "4/4 [==============================] - 0s 5ms/step - loss: 3.1344 - accuracy: 0.0000e+00\n",
            "Epoch 97/100\n",
            "4/4 [==============================] - 0s 4ms/step - loss: 3.1340 - accuracy: 0.0000e+00\n",
            "Epoch 98/100\n",
            "4/4 [==============================] - 0s 4ms/step - loss: 3.1129 - accuracy: 0.0000e+00\n",
            "Epoch 99/100\n",
            "4/4 [==============================] - 0s 4ms/step - loss: 3.1755 - accuracy: 0.0000e+00\n",
            "Epoch 100/100\n",
            "4/4 [==============================] - 0s 4ms/step - loss: 3.1505 - accuracy: 0.0000e+00\n",
            "4/4 [==============================] - 0s 3ms/step - loss: 3.2258 - accuracy: 0.0000e+00\n",
            "test_accuracy 0.0\n",
            "test_loss: 3.225806713104248\n"
          ]
        }
      ]
    }
  ]
}